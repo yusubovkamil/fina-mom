{
 "cells": [
  {
   "cell_type": "code",
   "execution_count": 2,
   "metadata": {
    "scrolled": true
   },
   "outputs": [],
   "source": [
    "import pandas as pd\n",
    "import numpy as np\n",
    "import matplotlib.pyplot as plt\n",
    "import statsmodels.formula.api as sm"
   ]
  },
  {
   "cell_type": "code",
   "execution_count": 4,
   "metadata": {
    "scrolled": true
   },
   "outputs": [
    {
     "data": {
      "text/html": [
       "<div>\n",
       "<style scoped>\n",
       "    .dataframe tbody tr th:only-of-type {\n",
       "        vertical-align: middle;\n",
       "    }\n",
       "\n",
       "    .dataframe tbody tr th {\n",
       "        vertical-align: top;\n",
       "    }\n",
       "\n",
       "    .dataframe thead th {\n",
       "        text-align: right;\n",
       "    }\n",
       "</style>\n",
       "<table border=\"1\" class=\"dataframe\">\n",
       "  <thead>\n",
       "    <tr style=\"text-align: right;\">\n",
       "      <th></th>\n",
       "      <th>date</th>\n",
       "      <th>Mkt_RF</th>\n",
       "      <th>SMB</th>\n",
       "      <th>HML</th>\n",
       "      <th>RF</th>\n",
       "      <th>Mkt</th>\n",
       "    </tr>\n",
       "  </thead>\n",
       "  <tbody>\n",
       "    <tr>\n",
       "      <td>0</td>\n",
       "      <td>1926-07-31</td>\n",
       "      <td>2.96</td>\n",
       "      <td>-2.30</td>\n",
       "      <td>-2.87</td>\n",
       "      <td>0.22</td>\n",
       "      <td>3.18</td>\n",
       "    </tr>\n",
       "    <tr>\n",
       "      <td>1</td>\n",
       "      <td>1926-08-31</td>\n",
       "      <td>2.64</td>\n",
       "      <td>-1.40</td>\n",
       "      <td>4.19</td>\n",
       "      <td>0.25</td>\n",
       "      <td>2.89</td>\n",
       "    </tr>\n",
       "    <tr>\n",
       "      <td>2</td>\n",
       "      <td>1926-09-30</td>\n",
       "      <td>0.36</td>\n",
       "      <td>-1.32</td>\n",
       "      <td>0.01</td>\n",
       "      <td>0.23</td>\n",
       "      <td>0.59</td>\n",
       "    </tr>\n",
       "    <tr>\n",
       "      <td>3</td>\n",
       "      <td>1926-10-31</td>\n",
       "      <td>-3.24</td>\n",
       "      <td>0.04</td>\n",
       "      <td>0.51</td>\n",
       "      <td>0.32</td>\n",
       "      <td>-2.92</td>\n",
       "    </tr>\n",
       "    <tr>\n",
       "      <td>4</td>\n",
       "      <td>1926-11-30</td>\n",
       "      <td>2.53</td>\n",
       "      <td>-0.20</td>\n",
       "      <td>-0.35</td>\n",
       "      <td>0.31</td>\n",
       "      <td>2.84</td>\n",
       "    </tr>\n",
       "    <tr>\n",
       "      <td>...</td>\n",
       "      <td>...</td>\n",
       "      <td>...</td>\n",
       "      <td>...</td>\n",
       "      <td>...</td>\n",
       "      <td>...</td>\n",
       "      <td>...</td>\n",
       "    </tr>\n",
       "    <tr>\n",
       "      <td>1117</td>\n",
       "      <td>2019-08-31</td>\n",
       "      <td>-2.58</td>\n",
       "      <td>-2.41</td>\n",
       "      <td>-4.99</td>\n",
       "      <td>0.16</td>\n",
       "      <td>-2.42</td>\n",
       "    </tr>\n",
       "    <tr>\n",
       "      <td>1118</td>\n",
       "      <td>2019-09-30</td>\n",
       "      <td>1.44</td>\n",
       "      <td>-0.90</td>\n",
       "      <td>6.71</td>\n",
       "      <td>0.18</td>\n",
       "      <td>1.62</td>\n",
       "    </tr>\n",
       "    <tr>\n",
       "      <td>1119</td>\n",
       "      <td>2019-10-31</td>\n",
       "      <td>2.06</td>\n",
       "      <td>0.25</td>\n",
       "      <td>-2.07</td>\n",
       "      <td>0.15</td>\n",
       "      <td>2.21</td>\n",
       "    </tr>\n",
       "    <tr>\n",
       "      <td>1120</td>\n",
       "      <td>2019-11-30</td>\n",
       "      <td>3.87</td>\n",
       "      <td>0.87</td>\n",
       "      <td>-1.86</td>\n",
       "      <td>0.12</td>\n",
       "      <td>3.99</td>\n",
       "    </tr>\n",
       "    <tr>\n",
       "      <td>1121</td>\n",
       "      <td>2019-12-31</td>\n",
       "      <td>2.77</td>\n",
       "      <td>0.69</td>\n",
       "      <td>1.82</td>\n",
       "      <td>0.14</td>\n",
       "      <td>2.91</td>\n",
       "    </tr>\n",
       "  </tbody>\n",
       "</table>\n",
       "<p>1122 rows × 6 columns</p>\n",
       "</div>"
      ],
      "text/plain": [
       "           date  Mkt_RF   SMB   HML    RF   Mkt\n",
       "0    1926-07-31    2.96 -2.30 -2.87  0.22  3.18\n",
       "1    1926-08-31    2.64 -1.40  4.19  0.25  2.89\n",
       "2    1926-09-30    0.36 -1.32  0.01  0.23  0.59\n",
       "3    1926-10-31   -3.24  0.04  0.51  0.32 -2.92\n",
       "4    1926-11-30    2.53 -0.20 -0.35  0.31  2.84\n",
       "...         ...     ...   ...   ...   ...   ...\n",
       "1117 2019-08-31   -2.58 -2.41 -4.99  0.16 -2.42\n",
       "1118 2019-09-30    1.44 -0.90  6.71  0.18  1.62\n",
       "1119 2019-10-31    2.06  0.25 -2.07  0.15  2.21\n",
       "1120 2019-11-30    3.87  0.87 -1.86  0.12  3.99\n",
       "1121 2019-12-31    2.77  0.69  1.82  0.14  2.91\n",
       "\n",
       "[1122 rows x 6 columns]"
      ]
     },
     "execution_count": 4,
     "metadata": {},
     "output_type": "execute_result"
    }
   ],
   "source": [
    "# prepare data\n",
    "crsp = pd.read_csv('CRSP.csv')\n",
    "crsp['RET'] = pd.to_numeric(crsp['RET'],errors = 'coerce')\n",
    "crsp['date'] = pd.to_datetime(crsp['date'], format = '%Y%m%d')+ pd.offsets.MonthEnd(0)\n",
    "ff = pd.read_csv('ff.csv', index_col = 'Date', parse_dates = True)\n",
    "ff['Mkt-RF'] = pd.to_numeric(ff['Mkt-RF'], errors = 'coerce')\n",
    "ff['RF'] = pd.to_numeric(ff['RF'], errors = 'coerce')\n",
    "ff['Mkt'] = ff['Mkt-RF'] + ff['RF']\n",
    "ff.index = pd.to_datetime(ff.index, format='%Y%m') + pd.offsets.MonthEnd(0)\n",
    "ff.reset_index(inplace = True)\n",
    "ff.rename(columns={'Mkt-RF' : 'Mkt_RF','Date': 'date'}, inplace=True)\n",
    "ff"
   ]
  },
  {
   "cell_type": "code",
   "execution_count": 5,
   "metadata": {
    "scrolled": true
   },
   "outputs": [
    {
     "data": {
      "text/html": [
       "<div>\n",
       "<style scoped>\n",
       "    .dataframe tbody tr th:only-of-type {\n",
       "        vertical-align: middle;\n",
       "    }\n",
       "\n",
       "    .dataframe tbody tr th {\n",
       "        vertical-align: top;\n",
       "    }\n",
       "\n",
       "    .dataframe thead th {\n",
       "        text-align: right;\n",
       "    }\n",
       "</style>\n",
       "<table border=\"1\" class=\"dataframe\">\n",
       "  <thead>\n",
       "    <tr style=\"text-align: right;\">\n",
       "      <th></th>\n",
       "      <th>PERMNO</th>\n",
       "      <th>date</th>\n",
       "      <th>SHRCD</th>\n",
       "      <th>PERMCO</th>\n",
       "      <th>PRC</th>\n",
       "      <th>RET</th>\n",
       "      <th>SHROUT</th>\n",
       "    </tr>\n",
       "  </thead>\n",
       "  <tbody>\n",
       "    <tr>\n",
       "      <td>0</td>\n",
       "      <td>10000</td>\n",
       "      <td>1986-01-31</td>\n",
       "      <td>10</td>\n",
       "      <td>7952</td>\n",
       "      <td>-4.37500</td>\n",
       "      <td>NaN</td>\n",
       "      <td>3680.0</td>\n",
       "    </tr>\n",
       "    <tr>\n",
       "      <td>1</td>\n",
       "      <td>10000</td>\n",
       "      <td>1986-02-28</td>\n",
       "      <td>10</td>\n",
       "      <td>7952</td>\n",
       "      <td>-3.25000</td>\n",
       "      <td>-0.257143</td>\n",
       "      <td>3680.0</td>\n",
       "    </tr>\n",
       "    <tr>\n",
       "      <td>2</td>\n",
       "      <td>10000</td>\n",
       "      <td>1986-03-31</td>\n",
       "      <td>10</td>\n",
       "      <td>7952</td>\n",
       "      <td>-4.43750</td>\n",
       "      <td>0.365385</td>\n",
       "      <td>3680.0</td>\n",
       "    </tr>\n",
       "    <tr>\n",
       "      <td>3</td>\n",
       "      <td>10000</td>\n",
       "      <td>1986-04-30</td>\n",
       "      <td>10</td>\n",
       "      <td>7952</td>\n",
       "      <td>-4.00000</td>\n",
       "      <td>-0.098592</td>\n",
       "      <td>3793.0</td>\n",
       "    </tr>\n",
       "    <tr>\n",
       "      <td>4</td>\n",
       "      <td>10000</td>\n",
       "      <td>1986-05-31</td>\n",
       "      <td>10</td>\n",
       "      <td>7952</td>\n",
       "      <td>-3.10938</td>\n",
       "      <td>-0.222656</td>\n",
       "      <td>3793.0</td>\n",
       "    </tr>\n",
       "    <tr>\n",
       "      <td>...</td>\n",
       "      <td>...</td>\n",
       "      <td>...</td>\n",
       "      <td>...</td>\n",
       "      <td>...</td>\n",
       "      <td>...</td>\n",
       "      <td>...</td>\n",
       "      <td>...</td>\n",
       "    </tr>\n",
       "    <tr>\n",
       "      <td>3645517</td>\n",
       "      <td>93436</td>\n",
       "      <td>2019-08-31</td>\n",
       "      <td>11</td>\n",
       "      <td>53453</td>\n",
       "      <td>225.61000</td>\n",
       "      <td>-0.066222</td>\n",
       "      <td>179127.0</td>\n",
       "    </tr>\n",
       "    <tr>\n",
       "      <td>3645518</td>\n",
       "      <td>93436</td>\n",
       "      <td>2019-09-30</td>\n",
       "      <td>11</td>\n",
       "      <td>53453</td>\n",
       "      <td>240.87000</td>\n",
       "      <td>0.067639</td>\n",
       "      <td>180000.0</td>\n",
       "    </tr>\n",
       "    <tr>\n",
       "      <td>3645519</td>\n",
       "      <td>93436</td>\n",
       "      <td>2019-10-31</td>\n",
       "      <td>11</td>\n",
       "      <td>53453</td>\n",
       "      <td>314.92001</td>\n",
       "      <td>0.307427</td>\n",
       "      <td>180245.0</td>\n",
       "    </tr>\n",
       "    <tr>\n",
       "      <td>3645520</td>\n",
       "      <td>93436</td>\n",
       "      <td>2019-11-30</td>\n",
       "      <td>11</td>\n",
       "      <td>53453</td>\n",
       "      <td>329.94000</td>\n",
       "      <td>0.047695</td>\n",
       "      <td>180245.0</td>\n",
       "    </tr>\n",
       "    <tr>\n",
       "      <td>3645521</td>\n",
       "      <td>93436</td>\n",
       "      <td>2019-12-31</td>\n",
       "      <td>11</td>\n",
       "      <td>53453</td>\n",
       "      <td>418.32999</td>\n",
       "      <td>0.267897</td>\n",
       "      <td>180245.0</td>\n",
       "    </tr>\n",
       "  </tbody>\n",
       "</table>\n",
       "<p>3645522 rows × 7 columns</p>\n",
       "</div>"
      ],
      "text/plain": [
       "         PERMNO       date  SHRCD  PERMCO        PRC       RET    SHROUT\n",
       "0         10000 1986-01-31     10    7952   -4.37500       NaN    3680.0\n",
       "1         10000 1986-02-28     10    7952   -3.25000 -0.257143    3680.0\n",
       "2         10000 1986-03-31     10    7952   -4.43750  0.365385    3680.0\n",
       "3         10000 1986-04-30     10    7952   -4.00000 -0.098592    3793.0\n",
       "4         10000 1986-05-31     10    7952   -3.10938 -0.222656    3793.0\n",
       "...         ...        ...    ...     ...        ...       ...       ...\n",
       "3645517   93436 2019-08-31     11   53453  225.61000 -0.066222  179127.0\n",
       "3645518   93436 2019-09-30     11   53453  240.87000  0.067639  180000.0\n",
       "3645519   93436 2019-10-31     11   53453  314.92001  0.307427  180245.0\n",
       "3645520   93436 2019-11-30     11   53453  329.94000  0.047695  180245.0\n",
       "3645521   93436 2019-12-31     11   53453  418.32999  0.267897  180245.0\n",
       "\n",
       "[3645522 rows x 7 columns]"
      ]
     },
     "execution_count": 5,
     "metadata": {},
     "output_type": "execute_result"
    }
   ],
   "source": [
    "crsp"
   ]
  },
  {
   "cell_type": "code",
   "execution_count": 9,
   "metadata": {
    "scrolled": true
   },
   "outputs": [
    {
     "data": {
      "text/html": [
       "<div>\n",
       "<style scoped>\n",
       "    .dataframe tbody tr th:only-of-type {\n",
       "        vertical-align: middle;\n",
       "    }\n",
       "\n",
       "    .dataframe tbody tr th {\n",
       "        vertical-align: top;\n",
       "    }\n",
       "\n",
       "    .dataframe thead th {\n",
       "        text-align: right;\n",
       "    }\n",
       "</style>\n",
       "<table border=\"1\" class=\"dataframe\">\n",
       "  <thead>\n",
       "    <tr style=\"text-align: right;\">\n",
       "      <th></th>\n",
       "      <th>PERMNO</th>\n",
       "      <th>date</th>\n",
       "      <th>SHRCD</th>\n",
       "      <th>PERMCO</th>\n",
       "      <th>PRC</th>\n",
       "      <th>RET</th>\n",
       "      <th>SHROUT</th>\n",
       "      <th>log1pRET</th>\n",
       "      <th>sumlog1pRET</th>\n",
       "      <th>RET12</th>\n",
       "    </tr>\n",
       "  </thead>\n",
       "  <tbody>\n",
       "    <tr>\n",
       "      <td>42</td>\n",
       "      <td>10001</td>\n",
       "      <td>1988-01-31</td>\n",
       "      <td>11</td>\n",
       "      <td>7953</td>\n",
       "      <td>6.25000</td>\n",
       "      <td>0.063830</td>\n",
       "      <td>992.0</td>\n",
       "      <td>0.061876</td>\n",
       "      <td>-0.008535</td>\n",
       "      <td>-0.008499</td>\n",
       "    </tr>\n",
       "    <tr>\n",
       "      <td>43</td>\n",
       "      <td>10001</td>\n",
       "      <td>1988-02-29</td>\n",
       "      <td>11</td>\n",
       "      <td>7953</td>\n",
       "      <td>6.75000</td>\n",
       "      <td>0.080000</td>\n",
       "      <td>992.0</td>\n",
       "      <td>0.076961</td>\n",
       "      <td>0.145387</td>\n",
       "      <td>0.156487</td>\n",
       "    </tr>\n",
       "    <tr>\n",
       "      <td>44</td>\n",
       "      <td>10001</td>\n",
       "      <td>1988-03-31</td>\n",
       "      <td>11</td>\n",
       "      <td>7953</td>\n",
       "      <td>6.12500</td>\n",
       "      <td>-0.076296</td>\n",
       "      <td>992.0</td>\n",
       "      <td>-0.079364</td>\n",
       "      <td>0.029884</td>\n",
       "      <td>0.030335</td>\n",
       "    </tr>\n",
       "    <tr>\n",
       "      <td>45</td>\n",
       "      <td>10001</td>\n",
       "      <td>1988-04-30</td>\n",
       "      <td>11</td>\n",
       "      <td>7953</td>\n",
       "      <td>-6.31250</td>\n",
       "      <td>0.030612</td>\n",
       "      <td>992.0</td>\n",
       "      <td>0.030153</td>\n",
       "      <td>0.100042</td>\n",
       "      <td>0.105218</td>\n",
       "    </tr>\n",
       "    <tr>\n",
       "      <td>46</td>\n",
       "      <td>10001</td>\n",
       "      <td>1988-05-31</td>\n",
       "      <td>11</td>\n",
       "      <td>7953</td>\n",
       "      <td>-6.43750</td>\n",
       "      <td>0.019802</td>\n",
       "      <td>992.0</td>\n",
       "      <td>0.019608</td>\n",
       "      <td>0.193759</td>\n",
       "      <td>0.213804</td>\n",
       "    </tr>\n",
       "    <tr>\n",
       "      <td>...</td>\n",
       "      <td>...</td>\n",
       "      <td>...</td>\n",
       "      <td>...</td>\n",
       "      <td>...</td>\n",
       "      <td>...</td>\n",
       "      <td>...</td>\n",
       "      <td>...</td>\n",
       "      <td>...</td>\n",
       "      <td>...</td>\n",
       "      <td>...</td>\n",
       "    </tr>\n",
       "    <tr>\n",
       "      <td>3645517</td>\n",
       "      <td>93436</td>\n",
       "      <td>2019-08-31</td>\n",
       "      <td>11</td>\n",
       "      <td>53453</td>\n",
       "      <td>225.61000</td>\n",
       "      <td>-0.066222</td>\n",
       "      <td>179127.0</td>\n",
       "      <td>-0.068517</td>\n",
       "      <td>-0.290492</td>\n",
       "      <td>-0.252104</td>\n",
       "    </tr>\n",
       "    <tr>\n",
       "      <td>3645518</td>\n",
       "      <td>93436</td>\n",
       "      <td>2019-09-30</td>\n",
       "      <td>11</td>\n",
       "      <td>53453</td>\n",
       "      <td>240.87000</td>\n",
       "      <td>0.067639</td>\n",
       "      <td>180000.0</td>\n",
       "      <td>0.065450</td>\n",
       "      <td>-0.094603</td>\n",
       "      <td>-0.090266</td>\n",
       "    </tr>\n",
       "    <tr>\n",
       "      <td>3645519</td>\n",
       "      <td>93436</td>\n",
       "      <td>2019-10-31</td>\n",
       "      <td>11</td>\n",
       "      <td>53453</td>\n",
       "      <td>314.92001</td>\n",
       "      <td>0.307427</td>\n",
       "      <td>180245.0</td>\n",
       "      <td>0.268061</td>\n",
       "      <td>-0.068712</td>\n",
       "      <td>-0.066405</td>\n",
       "    </tr>\n",
       "    <tr>\n",
       "      <td>3645520</td>\n",
       "      <td>93436</td>\n",
       "      <td>2019-11-30</td>\n",
       "      <td>11</td>\n",
       "      <td>53453</td>\n",
       "      <td>329.94000</td>\n",
       "      <td>0.047695</td>\n",
       "      <td>180245.0</td>\n",
       "      <td>0.046593</td>\n",
       "      <td>-0.060391</td>\n",
       "      <td>-0.058603</td>\n",
       "    </tr>\n",
       "    <tr>\n",
       "      <td>3645521</td>\n",
       "      <td>93436</td>\n",
       "      <td>2019-12-31</td>\n",
       "      <td>11</td>\n",
       "      <td>53453</td>\n",
       "      <td>418.32999</td>\n",
       "      <td>0.267897</td>\n",
       "      <td>180245.0</td>\n",
       "      <td>0.237360</td>\n",
       "      <td>0.228731</td>\n",
       "      <td>0.257003</td>\n",
       "    </tr>\n",
       "  </tbody>\n",
       "</table>\n",
       "<p>2938257 rows × 10 columns</p>\n",
       "</div>"
      ],
      "text/plain": [
       "         PERMNO       date  SHRCD  PERMCO        PRC       RET    SHROUT  \\\n",
       "42        10001 1988-01-31     11    7953    6.25000  0.063830     992.0   \n",
       "43        10001 1988-02-29     11    7953    6.75000  0.080000     992.0   \n",
       "44        10001 1988-03-31     11    7953    6.12500 -0.076296     992.0   \n",
       "45        10001 1988-04-30     11    7953   -6.31250  0.030612     992.0   \n",
       "46        10001 1988-05-31     11    7953   -6.43750  0.019802     992.0   \n",
       "...         ...        ...    ...     ...        ...       ...       ...   \n",
       "3645517   93436 2019-08-31     11   53453  225.61000 -0.066222  179127.0   \n",
       "3645518   93436 2019-09-30     11   53453  240.87000  0.067639  180000.0   \n",
       "3645519   93436 2019-10-31     11   53453  314.92001  0.307427  180245.0   \n",
       "3645520   93436 2019-11-30     11   53453  329.94000  0.047695  180245.0   \n",
       "3645521   93436 2019-12-31     11   53453  418.32999  0.267897  180245.0   \n",
       "\n",
       "         log1pRET  sumlog1pRET     RET12  \n",
       "42       0.061876    -0.008535 -0.008499  \n",
       "43       0.076961     0.145387  0.156487  \n",
       "44      -0.079364     0.029884  0.030335  \n",
       "45       0.030153     0.100042  0.105218  \n",
       "46       0.019608     0.193759  0.213804  \n",
       "...           ...          ...       ...  \n",
       "3645517 -0.068517    -0.290492 -0.252104  \n",
       "3645518  0.065450    -0.094603 -0.090266  \n",
       "3645519  0.268061    -0.068712 -0.066405  \n",
       "3645520  0.046593    -0.060391 -0.058603  \n",
       "3645521  0.237360     0.228731  0.257003  \n",
       "\n",
       "[2938257 rows x 10 columns]"
      ]
     },
     "execution_count": 9,
     "metadata": {},
     "output_type": "execute_result"
    }
   ],
   "source": [
    "#Calculate past 12 months Rolling Return \n",
    "crsp.sort_values(['PERMNO', 'date'], inplace = True)\n",
    "crsp.loc[crsp.groupby('PERMNO').head(1).index, 'RET'] = np.nan\n",
    "crsp['log1pRET'] = np.log(crsp['RET'] + 1)\n",
    "crsp['sumlog1pRET'] = crsp['log1pRET'].rolling(window=12).sum()\n",
    "crsp['RET12'] = np.exp(crsp['sumlog1pRET']) - 1\n",
    "crsp.dropna(subset = ['RET12'], inplace=True)\n",
    "crsp"
   ]
  },
  {
   "cell_type": "code",
   "execution_count": 17,
   "metadata": {
    "scrolled": true
   },
   "outputs": [
    {
     "data": {
      "text/html": [
       "<div>\n",
       "<style scoped>\n",
       "    .dataframe tbody tr th:only-of-type {\n",
       "        vertical-align: middle;\n",
       "    }\n",
       "\n",
       "    .dataframe tbody tr th {\n",
       "        vertical-align: top;\n",
       "    }\n",
       "\n",
       "    .dataframe thead th {\n",
       "        text-align: right;\n",
       "    }\n",
       "</style>\n",
       "<table border=\"1\" class=\"dataframe\">\n",
       "  <thead>\n",
       "    <tr style=\"text-align: right;\">\n",
       "      <th></th>\n",
       "      <th>date</th>\n",
       "      <th>PERMNO</th>\n",
       "      <th>RET12</th>\n",
       "      <th>Q10_RET12</th>\n",
       "    </tr>\n",
       "  </thead>\n",
       "  <tbody>\n",
       "    <tr>\n",
       "      <td>42</td>\n",
       "      <td>1988-03-31</td>\n",
       "      <td>10001</td>\n",
       "      <td>-0.008499</td>\n",
       "      <td>7.0</td>\n",
       "    </tr>\n",
       "    <tr>\n",
       "      <td>43</td>\n",
       "      <td>1988-04-30</td>\n",
       "      <td>10001</td>\n",
       "      <td>0.156487</td>\n",
       "      <td>8.0</td>\n",
       "    </tr>\n",
       "    <tr>\n",
       "      <td>44</td>\n",
       "      <td>1988-05-31</td>\n",
       "      <td>10001</td>\n",
       "      <td>0.030335</td>\n",
       "      <td>7.0</td>\n",
       "    </tr>\n",
       "    <tr>\n",
       "      <td>45</td>\n",
       "      <td>1988-06-30</td>\n",
       "      <td>10001</td>\n",
       "      <td>0.105218</td>\n",
       "      <td>7.0</td>\n",
       "    </tr>\n",
       "    <tr>\n",
       "      <td>46</td>\n",
       "      <td>1988-07-31</td>\n",
       "      <td>10001</td>\n",
       "      <td>0.213804</td>\n",
       "      <td>8.0</td>\n",
       "    </tr>\n",
       "    <tr>\n",
       "      <td>...</td>\n",
       "      <td>...</td>\n",
       "      <td>...</td>\n",
       "      <td>...</td>\n",
       "      <td>...</td>\n",
       "    </tr>\n",
       "    <tr>\n",
       "      <td>3645517</td>\n",
       "      <td>2019-10-31</td>\n",
       "      <td>93436</td>\n",
       "      <td>-0.252104</td>\n",
       "      <td>3.0</td>\n",
       "    </tr>\n",
       "    <tr>\n",
       "      <td>3645518</td>\n",
       "      <td>2019-11-30</td>\n",
       "      <td>93436</td>\n",
       "      <td>-0.090266</td>\n",
       "      <td>5.0</td>\n",
       "    </tr>\n",
       "    <tr>\n",
       "      <td>3645519</td>\n",
       "      <td>2019-12-31</td>\n",
       "      <td>93436</td>\n",
       "      <td>-0.066405</td>\n",
       "      <td>4.0</td>\n",
       "    </tr>\n",
       "    <tr>\n",
       "      <td>3645520</td>\n",
       "      <td>2020-01-31</td>\n",
       "      <td>93436</td>\n",
       "      <td>-0.058603</td>\n",
       "      <td>3.0</td>\n",
       "    </tr>\n",
       "    <tr>\n",
       "      <td>3645521</td>\n",
       "      <td>2020-02-29</td>\n",
       "      <td>93436</td>\n",
       "      <td>0.257003</td>\n",
       "      <td>5.0</td>\n",
       "    </tr>\n",
       "  </tbody>\n",
       "</table>\n",
       "<p>2938257 rows × 4 columns</p>\n",
       "</div>"
      ],
      "text/plain": [
       "              date  PERMNO     RET12  Q10_RET12\n",
       "42      1988-03-31   10001 -0.008499        7.0\n",
       "43      1988-04-30   10001  0.156487        8.0\n",
       "44      1988-05-31   10001  0.030335        7.0\n",
       "45      1988-06-30   10001  0.105218        7.0\n",
       "46      1988-07-31   10001  0.213804        8.0\n",
       "...            ...     ...       ...        ...\n",
       "3645517 2019-10-31   93436 -0.252104        3.0\n",
       "3645518 2019-11-30   93436 -0.090266        5.0\n",
       "3645519 2019-12-31   93436 -0.066405        4.0\n",
       "3645520 2020-01-31   93436 -0.058603        3.0\n",
       "3645521 2020-02-29   93436  0.257003        5.0\n",
       "\n",
       "[2938257 rows x 4 columns]"
      ]
     },
     "execution_count": 17,
     "metadata": {},
     "output_type": "execute_result"
    }
   ],
   "source": [
    "# Form portfolios\n",
    "# For every month, form a portfolio consisting of different stocks and devide those stocks into 10 groups\n",
    "# shift two monthes backward to make sure we use previous returns to predict the following reutrns\n",
    "portfolios = crsp[['date', 'PERMNO', 'RET12']].copy()\n",
    "portfolios['Q10_RET12'] = portfolios.groupby('date')['RET12'].transform(lambda x : pd.qcut(x, 10, labels = False))\n",
    "portfolios['date'] = portfolios['date'] + pd.offsets.MonthEnd(2)\n",
    "portfolios"
   ]
  },
  {
   "cell_type": "code",
   "execution_count": 33,
   "metadata": {
    "scrolled": true
   },
   "outputs": [
    {
     "data": {
      "text/html": [
       "<div>\n",
       "<style scoped>\n",
       "    .dataframe tbody tr th:only-of-type {\n",
       "        vertical-align: middle;\n",
       "    }\n",
       "\n",
       "    .dataframe tbody tr th {\n",
       "        vertical-align: top;\n",
       "    }\n",
       "\n",
       "    .dataframe thead th {\n",
       "        text-align: right;\n",
       "    }\n",
       "</style>\n",
       "<table border=\"1\" class=\"dataframe\">\n",
       "  <thead>\n",
       "    <tr style=\"text-align: right;\">\n",
       "      <th></th>\n",
       "      <th>PERMNO</th>\n",
       "      <th>SHRCD</th>\n",
       "      <th>PERMCO</th>\n",
       "      <th>PRC</th>\n",
       "      <th>RET</th>\n",
       "      <th>SHROUT</th>\n",
       "      <th>log1pRET</th>\n",
       "      <th>sumlog1pRET</th>\n",
       "      <th>RET12</th>\n",
       "      <th>Q10_RET12</th>\n",
       "    </tr>\n",
       "    <tr>\n",
       "      <th>date</th>\n",
       "      <th></th>\n",
       "      <th></th>\n",
       "      <th></th>\n",
       "      <th></th>\n",
       "      <th></th>\n",
       "      <th></th>\n",
       "      <th></th>\n",
       "      <th></th>\n",
       "      <th></th>\n",
       "      <th></th>\n",
       "    </tr>\n",
       "  </thead>\n",
       "  <tbody>\n",
       "    <tr>\n",
       "      <td>1988-03-31</td>\n",
       "      <td>10001</td>\n",
       "      <td>11</td>\n",
       "      <td>7953</td>\n",
       "      <td>6.12500</td>\n",
       "      <td>-0.076296</td>\n",
       "      <td>992.0</td>\n",
       "      <td>-0.079364</td>\n",
       "      <td>0.029884</td>\n",
       "      <td>0.030335</td>\n",
       "      <td>7.0</td>\n",
       "    </tr>\n",
       "    <tr>\n",
       "      <td>1988-04-30</td>\n",
       "      <td>10001</td>\n",
       "      <td>11</td>\n",
       "      <td>7953</td>\n",
       "      <td>-6.31250</td>\n",
       "      <td>0.030612</td>\n",
       "      <td>992.0</td>\n",
       "      <td>0.030153</td>\n",
       "      <td>0.100042</td>\n",
       "      <td>0.105218</td>\n",
       "      <td>8.0</td>\n",
       "    </tr>\n",
       "    <tr>\n",
       "      <td>1988-05-31</td>\n",
       "      <td>10001</td>\n",
       "      <td>11</td>\n",
       "      <td>7953</td>\n",
       "      <td>-6.43750</td>\n",
       "      <td>0.019802</td>\n",
       "      <td>992.0</td>\n",
       "      <td>0.019608</td>\n",
       "      <td>0.193759</td>\n",
       "      <td>0.213804</td>\n",
       "      <td>7.0</td>\n",
       "    </tr>\n",
       "    <tr>\n",
       "      <td>1988-06-30</td>\n",
       "      <td>10001</td>\n",
       "      <td>11</td>\n",
       "      <td>7953</td>\n",
       "      <td>6.25000</td>\n",
       "      <td>-0.012039</td>\n",
       "      <td>992.0</td>\n",
       "      <td>-0.012112</td>\n",
       "      <td>0.131497</td>\n",
       "      <td>0.140535</td>\n",
       "      <td>7.0</td>\n",
       "    </tr>\n",
       "    <tr>\n",
       "      <td>1988-07-31</td>\n",
       "      <td>10001</td>\n",
       "      <td>11</td>\n",
       "      <td>7953</td>\n",
       "      <td>-6.43750</td>\n",
       "      <td>0.030000</td>\n",
       "      <td>992.0</td>\n",
       "      <td>0.029559</td>\n",
       "      <td>0.140002</td>\n",
       "      <td>0.150276</td>\n",
       "      <td>8.0</td>\n",
       "    </tr>\n",
       "    <tr>\n",
       "      <td>...</td>\n",
       "      <td>...</td>\n",
       "      <td>...</td>\n",
       "      <td>...</td>\n",
       "      <td>...</td>\n",
       "      <td>...</td>\n",
       "      <td>...</td>\n",
       "      <td>...</td>\n",
       "      <td>...</td>\n",
       "      <td>...</td>\n",
       "      <td>...</td>\n",
       "    </tr>\n",
       "    <tr>\n",
       "      <td>2019-08-31</td>\n",
       "      <td>93436</td>\n",
       "      <td>11</td>\n",
       "      <td>53453</td>\n",
       "      <td>225.61000</td>\n",
       "      <td>-0.066222</td>\n",
       "      <td>179127.0</td>\n",
       "      <td>-0.068517</td>\n",
       "      <td>-0.290492</td>\n",
       "      <td>-0.252104</td>\n",
       "      <td>2.0</td>\n",
       "    </tr>\n",
       "    <tr>\n",
       "      <td>2019-09-30</td>\n",
       "      <td>93436</td>\n",
       "      <td>11</td>\n",
       "      <td>53453</td>\n",
       "      <td>240.87000</td>\n",
       "      <td>0.067639</td>\n",
       "      <td>180000.0</td>\n",
       "      <td>0.065450</td>\n",
       "      <td>-0.094603</td>\n",
       "      <td>-0.090266</td>\n",
       "      <td>3.0</td>\n",
       "    </tr>\n",
       "    <tr>\n",
       "      <td>2019-10-31</td>\n",
       "      <td>93436</td>\n",
       "      <td>11</td>\n",
       "      <td>53453</td>\n",
       "      <td>314.92001</td>\n",
       "      <td>0.307427</td>\n",
       "      <td>180245.0</td>\n",
       "      <td>0.268061</td>\n",
       "      <td>-0.068712</td>\n",
       "      <td>-0.066405</td>\n",
       "      <td>3.0</td>\n",
       "    </tr>\n",
       "    <tr>\n",
       "      <td>2019-11-30</td>\n",
       "      <td>93436</td>\n",
       "      <td>11</td>\n",
       "      <td>53453</td>\n",
       "      <td>329.94000</td>\n",
       "      <td>0.047695</td>\n",
       "      <td>180245.0</td>\n",
       "      <td>0.046593</td>\n",
       "      <td>-0.060391</td>\n",
       "      <td>-0.058603</td>\n",
       "      <td>5.0</td>\n",
       "    </tr>\n",
       "    <tr>\n",
       "      <td>2019-12-31</td>\n",
       "      <td>93436</td>\n",
       "      <td>11</td>\n",
       "      <td>53453</td>\n",
       "      <td>418.32999</td>\n",
       "      <td>0.267897</td>\n",
       "      <td>180245.0</td>\n",
       "      <td>0.237360</td>\n",
       "      <td>0.228731</td>\n",
       "      <td>0.257003</td>\n",
       "      <td>4.0</td>\n",
       "    </tr>\n",
       "  </tbody>\n",
       "</table>\n",
       "<p>2891106 rows × 10 columns</p>\n",
       "</div>"
      ],
      "text/plain": [
       "            PERMNO  SHRCD  PERMCO        PRC       RET    SHROUT  log1pRET  \\\n",
       "date                                                                         \n",
       "1988-03-31   10001     11    7953    6.12500 -0.076296     992.0 -0.079364   \n",
       "1988-04-30   10001     11    7953   -6.31250  0.030612     992.0  0.030153   \n",
       "1988-05-31   10001     11    7953   -6.43750  0.019802     992.0  0.019608   \n",
       "1988-06-30   10001     11    7953    6.25000 -0.012039     992.0 -0.012112   \n",
       "1988-07-31   10001     11    7953   -6.43750  0.030000     992.0  0.029559   \n",
       "...            ...    ...     ...        ...       ...       ...       ...   \n",
       "2019-08-31   93436     11   53453  225.61000 -0.066222  179127.0 -0.068517   \n",
       "2019-09-30   93436     11   53453  240.87000  0.067639  180000.0  0.065450   \n",
       "2019-10-31   93436     11   53453  314.92001  0.307427  180245.0  0.268061   \n",
       "2019-11-30   93436     11   53453  329.94000  0.047695  180245.0  0.046593   \n",
       "2019-12-31   93436     11   53453  418.32999  0.267897  180245.0  0.237360   \n",
       "\n",
       "            sumlog1pRET     RET12  Q10_RET12  \n",
       "date                                          \n",
       "1988-03-31     0.029884  0.030335        7.0  \n",
       "1988-04-30     0.100042  0.105218        8.0  \n",
       "1988-05-31     0.193759  0.213804        7.0  \n",
       "1988-06-30     0.131497  0.140535        7.0  \n",
       "1988-07-31     0.140002  0.150276        8.0  \n",
       "...                 ...       ...        ...  \n",
       "2019-08-31    -0.290492 -0.252104        2.0  \n",
       "2019-09-30    -0.094603 -0.090266        3.0  \n",
       "2019-10-31    -0.068712 -0.066405        3.0  \n",
       "2019-11-30    -0.060391 -0.058603        5.0  \n",
       "2019-12-31     0.228731  0.257003        4.0  \n",
       "\n",
       "[2891106 rows x 10 columns]"
      ]
     },
     "execution_count": 33,
     "metadata": {},
     "output_type": "execute_result"
    }
   ],
   "source": [
    "merged = pd.merge(crsp, portfolios[['Q10_RET12', 'PERMNO', 'date']], on = ['PERMNO', 'date'])\n",
    "merged.set_index('date', inplace = True)\n",
    "merged"
   ]
  },
  {
   "cell_type": "code",
   "execution_count": 34,
   "metadata": {},
   "outputs": [],
   "source": [
    "merged.to_csv('merged.csv')"
   ]
  },
  {
   "cell_type": "code",
   "execution_count": 18,
   "metadata": {
    "scrolled": true
   },
   "outputs": [
    {
     "data": {
      "text/plain": [
       "<matplotlib.axes._subplots.AxesSubplot at 0x1a2b661a90>"
      ]
     },
     "execution_count": 18,
     "metadata": {},
     "output_type": "execute_result"
    },
    {
     "data": {
      "image/png": "[encoded data removed]",
      "text/plain": [
       "<Figure size 432x288 with 1 Axes>"
      ]
     },
     "metadata": {
      "needs_background": "light"
     },
     "output_type": "display_data"
    }
   ],
   "source": [
    "# calculate and visualize the characteristics of top and bottom portfolios\n",
    "# mean of bottom portfolio\n",
    "merged[merged['Q10_RET12']== 0].groupby('date')['RET'].mean().plot()"
   ]
  },
  {
   "cell_type": "code",
   "execution_count": 19,
   "metadata": {
    "scrolled": true
   },
   "outputs": [
    {
     "data": {
      "text/plain": [
       "<matplotlib.axes._subplots.AxesSubplot at 0x1a22186f50>"
      ]
     },
     "execution_count": 19,
     "metadata": {},
     "output_type": "execute_result"
    },
    {
     "data": {
      "image/png": "[encoded data removed]",
      "text/plain": [
       "<Figure size 432x288 with 1 Axes>"
      ]
     },
     "metadata": {
      "needs_background": "light"
     },
     "output_type": "display_data"
    }
   ],
   "source": [
    "# standard deviation of bottom portfolio\n",
    "merged[merged['Q10_RET12']== 0].groupby('date')['RET'].std().plot()"
   ]
  },
  {
   "cell_type": "code",
   "execution_count": 20,
   "metadata": {
    "scrolled": true
   },
   "outputs": [
    {
     "data": {
      "text/plain": [
       "<matplotlib.axes._subplots.AxesSubplot at 0x1a20d7d690>"
      ]
     },
     "execution_count": 20,
     "metadata": {},
     "output_type": "execute_result"
    },
    {
     "data": {
      "image/png": "[encoded data removed]",
      "text/plain": [
       "<Figure size 432x288 with 1 Axes>"
      ]
     },
     "metadata": {
      "needs_background": "light"
     },
     "output_type": "display_data"
    }
   ],
   "source": [
    "# mean of top portfolio\n",
    "merged[merged['Q10_RET12']== 9].groupby('date')['RET'].mean().plot()"
   ]
  },
  {
   "cell_type": "code",
   "execution_count": 53,
   "metadata": {
    "scrolled": true
   },
   "outputs": [
    {
     "data": {
      "text/plain": [
       "<matplotlib.axes._subplots.AxesSubplot at 0x19003fbd7c8>"
      ]
     },
     "execution_count": 53,
     "metadata": {},
     "output_type": "execute_result"
    },
    {
     "data": {
      "image/png": "[encoded data removed]",
      "text/plain": [
       "<Figure size 432x288 with 1 Axes>"
      ]
     },
     "metadata": {
      "needs_background": "light"
     },
     "output_type": "display_data"
    }
   ],
   "source": [
    "# standard deviation of top portfolio\n",
    "merged[merged['Q10_RET12']== 9].groupby('date')['RET'].std().plot()"
   ]
  },
  {
   "cell_type": "code",
   "execution_count": 32,
   "metadata": {
    "scrolled": true
   },
   "outputs": [
    {
     "data": {
      "text/html": [
       "<div>\n",
       "<style scoped>\n",
       "    .dataframe tbody tr th:only-of-type {\n",
       "        vertical-align: middle;\n",
       "    }\n",
       "\n",
       "    .dataframe tbody tr th {\n",
       "        vertical-align: top;\n",
       "    }\n",
       "\n",
       "    .dataframe thead th {\n",
       "        text-align: right;\n",
       "    }\n",
       "</style>\n",
       "<table border=\"1\" class=\"dataframe\">\n",
       "  <thead>\n",
       "    <tr style=\"text-align: right;\">\n",
       "      <th></th>\n",
       "      <th>count</th>\n",
       "      <th>mean</th>\n",
       "      <th>std</th>\n",
       "      <th>min</th>\n",
       "      <th>25%</th>\n",
       "      <th>50%</th>\n",
       "      <th>75%</th>\n",
       "      <th>max</th>\n",
       "    </tr>\n",
       "    <tr>\n",
       "      <th>Q10_RET12</th>\n",
       "      <th></th>\n",
       "      <th></th>\n",
       "      <th></th>\n",
       "      <th></th>\n",
       "      <th></th>\n",
       "      <th></th>\n",
       "      <th></th>\n",
       "      <th></th>\n",
       "    </tr>\n",
       "  </thead>\n",
       "  <tbody>\n",
       "    <tr>\n",
       "      <td>0.0</td>\n",
       "      <td>282920.0</td>\n",
       "      <td>0.012976</td>\n",
       "      <td>0.298614</td>\n",
       "      <td>-0.993600</td>\n",
       "      <td>-0.120000</td>\n",
       "      <td>-0.011012</td>\n",
       "      <td>0.090909</td>\n",
       "      <td>19.000000</td>\n",
       "    </tr>\n",
       "    <tr>\n",
       "      <td>1.0</td>\n",
       "      <td>290161.0</td>\n",
       "      <td>0.010488</td>\n",
       "      <td>0.198716</td>\n",
       "      <td>-0.981295</td>\n",
       "      <td>-0.081081</td>\n",
       "      <td>0.000000</td>\n",
       "      <td>0.076271</td>\n",
       "      <td>13.495050</td>\n",
       "    </tr>\n",
       "    <tr>\n",
       "      <td>2.0</td>\n",
       "      <td>290824.0</td>\n",
       "      <td>0.010928</td>\n",
       "      <td>0.168665</td>\n",
       "      <td>-0.926702</td>\n",
       "      <td>-0.063670</td>\n",
       "      <td>0.000000</td>\n",
       "      <td>0.067708</td>\n",
       "      <td>24.000000</td>\n",
       "    </tr>\n",
       "    <tr>\n",
       "      <td>3.0</td>\n",
       "      <td>291147.0</td>\n",
       "      <td>0.011696</td>\n",
       "      <td>0.141029</td>\n",
       "      <td>-0.952703</td>\n",
       "      <td>-0.052778</td>\n",
       "      <td>0.000000</td>\n",
       "      <td>0.063636</td>\n",
       "      <td>5.562500</td>\n",
       "    </tr>\n",
       "    <tr>\n",
       "      <td>4.0</td>\n",
       "      <td>291161.0</td>\n",
       "      <td>0.012542</td>\n",
       "      <td>0.129640</td>\n",
       "      <td>-0.924577</td>\n",
       "      <td>-0.047210</td>\n",
       "      <td>0.003497</td>\n",
       "      <td>0.061350</td>\n",
       "      <td>7.480000</td>\n",
       "    </tr>\n",
       "    <tr>\n",
       "      <td>5.0</td>\n",
       "      <td>290528.0</td>\n",
       "      <td>0.013383</td>\n",
       "      <td>0.123327</td>\n",
       "      <td>-0.916667</td>\n",
       "      <td>-0.044118</td>\n",
       "      <td>0.005852</td>\n",
       "      <td>0.061303</td>\n",
       "      <td>4.018182</td>\n",
       "    </tr>\n",
       "    <tr>\n",
       "      <td>6.0</td>\n",
       "      <td>290194.0</td>\n",
       "      <td>0.014091</td>\n",
       "      <td>0.125601</td>\n",
       "      <td>-0.959091</td>\n",
       "      <td>-0.043716</td>\n",
       "      <td>0.006897</td>\n",
       "      <td>0.062780</td>\n",
       "      <td>10.344000</td>\n",
       "    </tr>\n",
       "    <tr>\n",
       "      <td>7.0</td>\n",
       "      <td>289418.0</td>\n",
       "      <td>0.015084</td>\n",
       "      <td>0.127644</td>\n",
       "      <td>-0.950000</td>\n",
       "      <td>-0.045373</td>\n",
       "      <td>0.007334</td>\n",
       "      <td>0.065897</td>\n",
       "      <td>6.166667</td>\n",
       "    </tr>\n",
       "    <tr>\n",
       "      <td>8.0</td>\n",
       "      <td>288079.0</td>\n",
       "      <td>0.015783</td>\n",
       "      <td>0.138615</td>\n",
       "      <td>-0.937500</td>\n",
       "      <td>-0.051431</td>\n",
       "      <td>0.007112</td>\n",
       "      <td>0.072165</td>\n",
       "      <td>6.908072</td>\n",
       "    </tr>\n",
       "    <tr>\n",
       "      <td>9.0</td>\n",
       "      <td>286674.0</td>\n",
       "      <td>0.017198</td>\n",
       "      <td>0.171434</td>\n",
       "      <td>-0.965789</td>\n",
       "      <td>-0.070968</td>\n",
       "      <td>0.003746</td>\n",
       "      <td>0.088947</td>\n",
       "      <td>5.888889</td>\n",
       "    </tr>\n",
       "  </tbody>\n",
       "</table>\n",
       "</div>"
      ],
      "text/plain": [
       "              count      mean       std       min       25%       50%  \\\n",
       "Q10_RET12                                                               \n",
       "0.0        282920.0  0.012976  0.298614 -0.993600 -0.120000 -0.011012   \n",
       "1.0        290161.0  0.010488  0.198716 -0.981295 -0.081081  0.000000   \n",
       "2.0        290824.0  0.010928  0.168665 -0.926702 -0.063670  0.000000   \n",
       "3.0        291147.0  0.011696  0.141029 -0.952703 -0.052778  0.000000   \n",
       "4.0        291161.0  0.012542  0.129640 -0.924577 -0.047210  0.003497   \n",
       "5.0        290528.0  0.013383  0.123327 -0.916667 -0.044118  0.005852   \n",
       "6.0        290194.0  0.014091  0.125601 -0.959091 -0.043716  0.006897   \n",
       "7.0        289418.0  0.015084  0.127644 -0.950000 -0.045373  0.007334   \n",
       "8.0        288079.0  0.015783  0.138615 -0.937500 -0.051431  0.007112   \n",
       "9.0        286674.0  0.017198  0.171434 -0.965789 -0.070968  0.003746   \n",
       "\n",
       "                75%        max  \n",
       "Q10_RET12                       \n",
       "0.0        0.090909  19.000000  \n",
       "1.0        0.076271  13.495050  \n",
       "2.0        0.067708  24.000000  \n",
       "3.0        0.063636   5.562500  \n",
       "4.0        0.061350   7.480000  \n",
       "5.0        0.061303   4.018182  \n",
       "6.0        0.062780  10.344000  \n",
       "7.0        0.065897   6.166667  \n",
       "8.0        0.072165   6.908072  \n",
       "9.0        0.088947   5.888889  "
      ]
     },
     "execution_count": 32,
     "metadata": {},
     "output_type": "execute_result"
    }
   ],
   "source": [
    "# Calculate characteristics of all portfolios in all months\n",
    "merged_gbq=merged.groupby('Q10_RET12').describe()\n",
    "port_ret=merged_gbq['RET']\n",
    "port_ret"
   ]
  },
  {
   "cell_type": "code",
   "execution_count": 23,
   "metadata": {
    "scrolled": true
   },
   "outputs": [
    {
     "data": {
      "text/plain": [
       "<matplotlib.axes._subplots.AxesSubplot at 0x1a4311b790>"
      ]
     },
     "execution_count": 23,
     "metadata": {},
     "output_type": "execute_result"
    },
    {
     "data": {
      "image/png": "[encoded data removed]",
      "text/plain": [
       "<Figure size 432x288 with 1 Axes>"
      ]
     },
     "metadata": {
      "needs_background": "light"
     },
     "output_type": "display_data"
    }
   ],
   "source": [
    "# this chart shows the mean return of 10 portfolios in all months\n",
    "port_ret['mean'].plot(kind = 'bar')"
   ]
  },
  {
   "cell_type": "code",
   "execution_count": 24,
   "metadata": {
    "scrolled": true
   },
   "outputs": [
    {
     "data": {
      "text/plain": [
       "<matplotlib.axes._subplots.AxesSubplot at 0x1a20f19b90>"
      ]
     },
     "execution_count": 24,
     "metadata": {},
     "output_type": "execute_result"
    },
    {
     "data": {
      "image/png": "[encoded data removed]",
      "text/plain": [
       "<Figure size 432x288 with 1 Axes>"
      ]
     },
     "metadata": {
      "needs_background": "light"
     },
     "output_type": "display_data"
    }
   ],
   "source": [
    "# this chart shows the standard deviation of 10 portfolios in all monthes\n",
    "port_ret['std'].plot(kind = 'bar')"
   ]
  },
  {
   "cell_type": "code",
   "execution_count": null,
   "metadata": {
    "scrolled": true
   },
   "outputs": [],
   "source": []
  },
  {
   "cell_type": "code",
   "execution_count": 25,
   "metadata": {
    "scrolled": true
   },
   "outputs": [],
   "source": [
    "# Describe Strategy - prepare \n",
    "port = pd.DataFrame()\n",
    "portfolios1 = merged.groupby(['date', 'Q10_RET12'])[['RET']].mean().unstack()\n",
    "portfolios1.columns = ['RET_' + str(i) for i in range(10)]\n",
    "port['strategy_ret']= (portfolios1['RET_9'] -  portfolios1['RET_0'])*100\n",
    "port.reset_index(inplace = True)\n",
    "port['strategy_excess'] = port['strategy_ret'] - ff['RF']\n",
    "portfolios2 = pd.merge(ff, port[['date','strategy_ret','strategy_excess']],on = 'date')\n",
    "portfolios2['log_mktrf'] = np.log(portfolios2['Mkt_RF']/100 + 1)\n",
    "portfolios2['log_strategyrf'] = np.log(portfolios2['strategy_excess']/100 + 1)\n",
    "portfolios2['log_mkt'] = np.log(portfolios2['Mkt']/100 + 1)\n",
    "portfolios2['log_strategy'] = np.log(portfolios2['strategy_ret']/100 + 1)\n",
    "portfolios2.set_index('date', inplace =True)"
   ]
  },
  {
   "cell_type": "code",
   "execution_count": 26,
   "metadata": {
    "scrolled": true
   },
   "outputs": [
    {
     "data": {
      "text/html": [
       "<div>\n",
       "<style scoped>\n",
       "    .dataframe tbody tr th:only-of-type {\n",
       "        vertical-align: middle;\n",
       "    }\n",
       "\n",
       "    .dataframe tbody tr th {\n",
       "        vertical-align: top;\n",
       "    }\n",
       "\n",
       "    .dataframe thead th {\n",
       "        text-align: right;\n",
       "    }\n",
       "</style>\n",
       "<table border=\"1\" class=\"dataframe\">\n",
       "  <thead>\n",
       "    <tr style=\"text-align: right;\">\n",
       "      <th></th>\n",
       "      <th>date</th>\n",
       "      <th>strategy_ret</th>\n",
       "      <th>strategy_excess</th>\n",
       "    </tr>\n",
       "  </thead>\n",
       "  <tbody>\n",
       "    <tr>\n",
       "      <td>0</td>\n",
       "      <td>1928-02-29</td>\n",
       "      <td>-7.213916</td>\n",
       "      <td>-7.433916</td>\n",
       "    </tr>\n",
       "    <tr>\n",
       "      <td>1</td>\n",
       "      <td>1928-03-31</td>\n",
       "      <td>5.433933</td>\n",
       "      <td>5.183933</td>\n",
       "    </tr>\n",
       "    <tr>\n",
       "      <td>2</td>\n",
       "      <td>1928-04-30</td>\n",
       "      <td>-6.128900</td>\n",
       "      <td>-6.358900</td>\n",
       "    </tr>\n",
       "    <tr>\n",
       "      <td>3</td>\n",
       "      <td>1928-05-31</td>\n",
       "      <td>-10.353505</td>\n",
       "      <td>-10.673505</td>\n",
       "    </tr>\n",
       "    <tr>\n",
       "      <td>4</td>\n",
       "      <td>1928-06-30</td>\n",
       "      <td>1.910393</td>\n",
       "      <td>1.600393</td>\n",
       "    </tr>\n",
       "    <tr>\n",
       "      <td>...</td>\n",
       "      <td>...</td>\n",
       "      <td>...</td>\n",
       "      <td>...</td>\n",
       "    </tr>\n",
       "    <tr>\n",
       "      <td>1098</td>\n",
       "      <td>2019-08-31</td>\n",
       "      <td>4.227480</td>\n",
       "      <td>4.117480</td>\n",
       "    </tr>\n",
       "    <tr>\n",
       "      <td>1099</td>\n",
       "      <td>2019-09-30</td>\n",
       "      <td>-8.108368</td>\n",
       "      <td>-8.218368</td>\n",
       "    </tr>\n",
       "    <tr>\n",
       "      <td>1100</td>\n",
       "      <td>2019-10-31</td>\n",
       "      <td>6.493778</td>\n",
       "      <td>6.373778</td>\n",
       "    </tr>\n",
       "    <tr>\n",
       "      <td>1101</td>\n",
       "      <td>2019-11-30</td>\n",
       "      <td>2.770538</td>\n",
       "      <td>2.630538</td>\n",
       "    </tr>\n",
       "    <tr>\n",
       "      <td>1102</td>\n",
       "      <td>2019-12-31</td>\n",
       "      <td>-9.106043</td>\n",
       "      <td>-9.246043</td>\n",
       "    </tr>\n",
       "  </tbody>\n",
       "</table>\n",
       "<p>1103 rows × 3 columns</p>\n",
       "</div>"
      ],
      "text/plain": [
       "           date  strategy_ret  strategy_excess\n",
       "0    1928-02-29     -7.213916        -7.433916\n",
       "1    1928-03-31      5.433933         5.183933\n",
       "2    1928-04-30     -6.128900        -6.358900\n",
       "3    1928-05-31    -10.353505       -10.673505\n",
       "4    1928-06-30      1.910393         1.600393\n",
       "...         ...           ...              ...\n",
       "1098 2019-08-31      4.227480         4.117480\n",
       "1099 2019-09-30     -8.108368        -8.218368\n",
       "1100 2019-10-31      6.493778         6.373778\n",
       "1101 2019-11-30      2.770538         2.630538\n",
       "1102 2019-12-31     -9.106043        -9.246043\n",
       "\n",
       "[1103 rows x 3 columns]"
      ]
     },
     "execution_count": 26,
     "metadata": {},
     "output_type": "execute_result"
    }
   ],
   "source": [
    "port"
   ]
  },
  {
   "cell_type": "code",
   "execution_count": 27,
   "metadata": {
    "scrolled": true
   },
   "outputs": [
    {
     "data": {
      "text/html": [
       "<div>\n",
       "<style scoped>\n",
       "    .dataframe tbody tr th:only-of-type {\n",
       "        vertical-align: middle;\n",
       "    }\n",
       "\n",
       "    .dataframe tbody tr th {\n",
       "        vertical-align: top;\n",
       "    }\n",
       "\n",
       "    .dataframe thead th {\n",
       "        text-align: right;\n",
       "    }\n",
       "</style>\n",
       "<table border=\"1\" class=\"dataframe\">\n",
       "  <thead>\n",
       "    <tr style=\"text-align: right;\">\n",
       "      <th></th>\n",
       "      <th>RET_0</th>\n",
       "      <th>RET_1</th>\n",
       "      <th>RET_2</th>\n",
       "      <th>RET_3</th>\n",
       "      <th>RET_4</th>\n",
       "      <th>RET_5</th>\n",
       "      <th>RET_6</th>\n",
       "      <th>RET_7</th>\n",
       "      <th>RET_8</th>\n",
       "      <th>RET_9</th>\n",
       "    </tr>\n",
       "    <tr>\n",
       "      <th>date</th>\n",
       "      <th></th>\n",
       "      <th></th>\n",
       "      <th></th>\n",
       "      <th></th>\n",
       "      <th></th>\n",
       "      <th></th>\n",
       "      <th></th>\n",
       "      <th></th>\n",
       "      <th></th>\n",
       "      <th></th>\n",
       "    </tr>\n",
       "  </thead>\n",
       "  <tbody>\n",
       "    <tr>\n",
       "      <td>1928-02-29</td>\n",
       "      <td>0.013518</td>\n",
       "      <td>-0.032255</td>\n",
       "      <td>-0.046103</td>\n",
       "      <td>0.005085</td>\n",
       "      <td>-0.017139</td>\n",
       "      <td>-0.026459</td>\n",
       "      <td>-0.031474</td>\n",
       "      <td>-0.025070</td>\n",
       "      <td>-0.042442</td>\n",
       "      <td>-0.058621</td>\n",
       "    </tr>\n",
       "    <tr>\n",
       "      <td>1928-03-31</td>\n",
       "      <td>0.057636</td>\n",
       "      <td>0.072778</td>\n",
       "      <td>0.059553</td>\n",
       "      <td>0.059536</td>\n",
       "      <td>0.052894</td>\n",
       "      <td>0.073901</td>\n",
       "      <td>0.055984</td>\n",
       "      <td>0.070600</td>\n",
       "      <td>0.122978</td>\n",
       "      <td>0.111975</td>\n",
       "    </tr>\n",
       "    <tr>\n",
       "      <td>1928-04-30</td>\n",
       "      <td>0.142321</td>\n",
       "      <td>0.184590</td>\n",
       "      <td>0.107077</td>\n",
       "      <td>0.147590</td>\n",
       "      <td>0.066971</td>\n",
       "      <td>0.075162</td>\n",
       "      <td>0.027398</td>\n",
       "      <td>0.051557</td>\n",
       "      <td>0.032474</td>\n",
       "      <td>0.081032</td>\n",
       "    </tr>\n",
       "    <tr>\n",
       "      <td>1928-05-31</td>\n",
       "      <td>0.151237</td>\n",
       "      <td>-0.014944</td>\n",
       "      <td>0.049685</td>\n",
       "      <td>0.006897</td>\n",
       "      <td>0.010619</td>\n",
       "      <td>0.017688</td>\n",
       "      <td>0.046769</td>\n",
       "      <td>0.018424</td>\n",
       "      <td>0.070917</td>\n",
       "      <td>0.047702</td>\n",
       "    </tr>\n",
       "    <tr>\n",
       "      <td>1928-06-30</td>\n",
       "      <td>-0.096420</td>\n",
       "      <td>-0.084013</td>\n",
       "      <td>-0.053595</td>\n",
       "      <td>-0.080872</td>\n",
       "      <td>-0.052946</td>\n",
       "      <td>-0.067429</td>\n",
       "      <td>-0.059976</td>\n",
       "      <td>-0.062516</td>\n",
       "      <td>-0.061097</td>\n",
       "      <td>-0.077316</td>\n",
       "    </tr>\n",
       "    <tr>\n",
       "      <td>...</td>\n",
       "      <td>...</td>\n",
       "      <td>...</td>\n",
       "      <td>...</td>\n",
       "      <td>...</td>\n",
       "      <td>...</td>\n",
       "      <td>...</td>\n",
       "      <td>...</td>\n",
       "      <td>...</td>\n",
       "      <td>...</td>\n",
       "      <td>...</td>\n",
       "    </tr>\n",
       "    <tr>\n",
       "      <td>2019-08-31</td>\n",
       "      <td>-0.064556</td>\n",
       "      <td>-0.079765</td>\n",
       "      <td>-0.085219</td>\n",
       "      <td>-0.069547</td>\n",
       "      <td>-0.050976</td>\n",
       "      <td>-0.045273</td>\n",
       "      <td>-0.047509</td>\n",
       "      <td>-0.035419</td>\n",
       "      <td>-0.028836</td>\n",
       "      <td>-0.022282</td>\n",
       "    </tr>\n",
       "    <tr>\n",
       "      <td>2019-09-30</td>\n",
       "      <td>0.039333</td>\n",
       "      <td>0.044416</td>\n",
       "      <td>0.042847</td>\n",
       "      <td>0.054427</td>\n",
       "      <td>0.040213</td>\n",
       "      <td>0.043623</td>\n",
       "      <td>0.033062</td>\n",
       "      <td>0.023063</td>\n",
       "      <td>0.008876</td>\n",
       "      <td>-0.041750</td>\n",
       "    </tr>\n",
       "    <tr>\n",
       "      <td>2019-10-31</td>\n",
       "      <td>-0.048069</td>\n",
       "      <td>-0.011331</td>\n",
       "      <td>-0.008531</td>\n",
       "      <td>0.008869</td>\n",
       "      <td>0.011211</td>\n",
       "      <td>0.027207</td>\n",
       "      <td>0.009156</td>\n",
       "      <td>0.015086</td>\n",
       "      <td>0.010126</td>\n",
       "      <td>0.016869</td>\n",
       "    </tr>\n",
       "    <tr>\n",
       "      <td>2019-11-30</td>\n",
       "      <td>0.015618</td>\n",
       "      <td>0.047107</td>\n",
       "      <td>0.040586</td>\n",
       "      <td>0.033025</td>\n",
       "      <td>0.036825</td>\n",
       "      <td>0.037468</td>\n",
       "      <td>0.042534</td>\n",
       "      <td>0.032727</td>\n",
       "      <td>0.026377</td>\n",
       "      <td>0.043323</td>\n",
       "    </tr>\n",
       "    <tr>\n",
       "      <td>2019-12-31</td>\n",
       "      <td>0.127138</td>\n",
       "      <td>0.084178</td>\n",
       "      <td>0.037216</td>\n",
       "      <td>0.034175</td>\n",
       "      <td>0.040463</td>\n",
       "      <td>0.032471</td>\n",
       "      <td>0.033480</td>\n",
       "      <td>0.029860</td>\n",
       "      <td>0.015546</td>\n",
       "      <td>0.036078</td>\n",
       "    </tr>\n",
       "  </tbody>\n",
       "</table>\n",
       "<p>1103 rows × 10 columns</p>\n",
       "</div>"
      ],
      "text/plain": [
       "               RET_0     RET_1     RET_2     RET_3     RET_4     RET_5  \\\n",
       "date                                                                     \n",
       "1928-02-29  0.013518 -0.032255 -0.046103  0.005085 -0.017139 -0.026459   \n",
       "1928-03-31  0.057636  0.072778  0.059553  0.059536  0.052894  0.073901   \n",
       "1928-04-30  0.142321  0.184590  0.107077  0.147590  0.066971  0.075162   \n",
       "1928-05-31  0.151237 -0.014944  0.049685  0.006897  0.010619  0.017688   \n",
       "1928-06-30 -0.096420 -0.084013 -0.053595 -0.080872 -0.052946 -0.067429   \n",
       "...              ...       ...       ...       ...       ...       ...   \n",
       "2019-08-31 -0.064556 -0.079765 -0.085219 -0.069547 -0.050976 -0.045273   \n",
       "2019-09-30  0.039333  0.044416  0.042847  0.054427  0.040213  0.043623   \n",
       "2019-10-31 -0.048069 -0.011331 -0.008531  0.008869  0.011211  0.027207   \n",
       "2019-11-30  0.015618  0.047107  0.040586  0.033025  0.036825  0.037468   \n",
       "2019-12-31  0.127138  0.084178  0.037216  0.034175  0.040463  0.032471   \n",
       "\n",
       "               RET_6     RET_7     RET_8     RET_9  \n",
       "date                                                \n",
       "1928-02-29 -0.031474 -0.025070 -0.042442 -0.058621  \n",
       "1928-03-31  0.055984  0.070600  0.122978  0.111975  \n",
       "1928-04-30  0.027398  0.051557  0.032474  0.081032  \n",
       "1928-05-31  0.046769  0.018424  0.070917  0.047702  \n",
       "1928-06-30 -0.059976 -0.062516 -0.061097 -0.077316  \n",
       "...              ...       ...       ...       ...  \n",
       "2019-08-31 -0.047509 -0.035419 -0.028836 -0.022282  \n",
       "2019-09-30  0.033062  0.023063  0.008876 -0.041750  \n",
       "2019-10-31  0.009156  0.015086  0.010126  0.016869  \n",
       "2019-11-30  0.042534  0.032727  0.026377  0.043323  \n",
       "2019-12-31  0.033480  0.029860  0.015546  0.036078  \n",
       "\n",
       "[1103 rows x 10 columns]"
      ]
     },
     "execution_count": 27,
     "metadata": {},
     "output_type": "execute_result"
    }
   ],
   "source": [
    "portfolios1"
   ]
  },
  {
   "cell_type": "code",
   "execution_count": 28,
   "metadata": {
    "scrolled": true
   },
   "outputs": [
    {
     "data": {
      "text/html": [
       "<div>\n",
       "<style scoped>\n",
       "    .dataframe tbody tr th:only-of-type {\n",
       "        vertical-align: middle;\n",
       "    }\n",
       "\n",
       "    .dataframe tbody tr th {\n",
       "        vertical-align: top;\n",
       "    }\n",
       "\n",
       "    .dataframe thead th {\n",
       "        text-align: right;\n",
       "    }\n",
       "</style>\n",
       "<table border=\"1\" class=\"dataframe\">\n",
       "  <thead>\n",
       "    <tr style=\"text-align: right;\">\n",
       "      <th></th>\n",
       "      <th>Mkt_RF</th>\n",
       "      <th>SMB</th>\n",
       "      <th>HML</th>\n",
       "      <th>RF</th>\n",
       "      <th>Mkt</th>\n",
       "      <th>strategy_ret</th>\n",
       "      <th>strategy_excess</th>\n",
       "      <th>log_mktrf</th>\n",
       "      <th>log_strategyrf</th>\n",
       "      <th>log_mkt</th>\n",
       "      <th>log_strategy</th>\n",
       "    </tr>\n",
       "    <tr>\n",
       "      <th>date</th>\n",
       "      <th></th>\n",
       "      <th></th>\n",
       "      <th></th>\n",
       "      <th></th>\n",
       "      <th></th>\n",
       "      <th></th>\n",
       "      <th></th>\n",
       "      <th></th>\n",
       "      <th></th>\n",
       "      <th></th>\n",
       "      <th></th>\n",
       "    </tr>\n",
       "  </thead>\n",
       "  <tbody>\n",
       "    <tr>\n",
       "      <td>1928-02-29</td>\n",
       "      <td>-1.70</td>\n",
       "      <td>-2.03</td>\n",
       "      <td>-0.69</td>\n",
       "      <td>0.33</td>\n",
       "      <td>-1.37</td>\n",
       "      <td>-7.213916</td>\n",
       "      <td>-7.433916</td>\n",
       "      <td>-0.017146</td>\n",
       "      <td>-0.077247</td>\n",
       "      <td>-0.013795</td>\n",
       "      <td>-0.074874</td>\n",
       "    </tr>\n",
       "    <tr>\n",
       "      <td>1928-03-31</td>\n",
       "      <td>8.81</td>\n",
       "      <td>-0.26</td>\n",
       "      <td>-1.20</td>\n",
       "      <td>0.29</td>\n",
       "      <td>9.10</td>\n",
       "      <td>5.433933</td>\n",
       "      <td>5.183933</td>\n",
       "      <td>0.084433</td>\n",
       "      <td>0.050540</td>\n",
       "      <td>0.087095</td>\n",
       "      <td>0.052914</td>\n",
       "    </tr>\n",
       "    <tr>\n",
       "      <td>1928-04-30</td>\n",
       "      <td>4.23</td>\n",
       "      <td>3.82</td>\n",
       "      <td>3.67</td>\n",
       "      <td>0.22</td>\n",
       "      <td>4.45</td>\n",
       "      <td>-6.128900</td>\n",
       "      <td>-6.358900</td>\n",
       "      <td>0.041430</td>\n",
       "      <td>-0.065701</td>\n",
       "      <td>0.043538</td>\n",
       "      <td>-0.063248</td>\n",
       "    </tr>\n",
       "    <tr>\n",
       "      <td>1928-05-31</td>\n",
       "      <td>1.52</td>\n",
       "      <td>2.98</td>\n",
       "      <td>-3.46</td>\n",
       "      <td>0.32</td>\n",
       "      <td>1.84</td>\n",
       "      <td>-10.353505</td>\n",
       "      <td>-10.673505</td>\n",
       "      <td>0.015086</td>\n",
       "      <td>-0.112872</td>\n",
       "      <td>0.018233</td>\n",
       "      <td>-0.109296</td>\n",
       "    </tr>\n",
       "    <tr>\n",
       "      <td>1928-06-30</td>\n",
       "      <td>-4.85</td>\n",
       "      <td>-3.50</td>\n",
       "      <td>-0.06</td>\n",
       "      <td>0.31</td>\n",
       "      <td>-4.54</td>\n",
       "      <td>1.910393</td>\n",
       "      <td>1.600393</td>\n",
       "      <td>-0.049716</td>\n",
       "      <td>0.015877</td>\n",
       "      <td>-0.046463</td>\n",
       "      <td>0.018924</td>\n",
       "    </tr>\n",
       "    <tr>\n",
       "      <td>...</td>\n",
       "      <td>...</td>\n",
       "      <td>...</td>\n",
       "      <td>...</td>\n",
       "      <td>...</td>\n",
       "      <td>...</td>\n",
       "      <td>...</td>\n",
       "      <td>...</td>\n",
       "      <td>...</td>\n",
       "      <td>...</td>\n",
       "      <td>...</td>\n",
       "      <td>...</td>\n",
       "    </tr>\n",
       "    <tr>\n",
       "      <td>2019-08-31</td>\n",
       "      <td>-2.58</td>\n",
       "      <td>-2.41</td>\n",
       "      <td>-4.99</td>\n",
       "      <td>0.16</td>\n",
       "      <td>-2.42</td>\n",
       "      <td>4.227480</td>\n",
       "      <td>4.117480</td>\n",
       "      <td>-0.026139</td>\n",
       "      <td>0.040350</td>\n",
       "      <td>-0.024498</td>\n",
       "      <td>0.041406</td>\n",
       "    </tr>\n",
       "    <tr>\n",
       "      <td>2019-09-30</td>\n",
       "      <td>1.44</td>\n",
       "      <td>-0.90</td>\n",
       "      <td>6.71</td>\n",
       "      <td>0.18</td>\n",
       "      <td>1.62</td>\n",
       "      <td>-8.108368</td>\n",
       "      <td>-8.218368</td>\n",
       "      <td>0.014297</td>\n",
       "      <td>-0.085758</td>\n",
       "      <td>0.016070</td>\n",
       "      <td>-0.084560</td>\n",
       "    </tr>\n",
       "    <tr>\n",
       "      <td>2019-10-31</td>\n",
       "      <td>2.06</td>\n",
       "      <td>0.25</td>\n",
       "      <td>-2.07</td>\n",
       "      <td>0.15</td>\n",
       "      <td>2.21</td>\n",
       "      <td>6.493778</td>\n",
       "      <td>6.373778</td>\n",
       "      <td>0.020391</td>\n",
       "      <td>0.061789</td>\n",
       "      <td>0.021859</td>\n",
       "      <td>0.062916</td>\n",
       "    </tr>\n",
       "    <tr>\n",
       "      <td>2019-11-30</td>\n",
       "      <td>3.87</td>\n",
       "      <td>0.87</td>\n",
       "      <td>-1.86</td>\n",
       "      <td>0.12</td>\n",
       "      <td>3.99</td>\n",
       "      <td>2.770538</td>\n",
       "      <td>2.630538</td>\n",
       "      <td>0.037970</td>\n",
       "      <td>0.025965</td>\n",
       "      <td>0.039125</td>\n",
       "      <td>0.027329</td>\n",
       "    </tr>\n",
       "    <tr>\n",
       "      <td>2019-12-31</td>\n",
       "      <td>2.77</td>\n",
       "      <td>0.69</td>\n",
       "      <td>1.82</td>\n",
       "      <td>0.14</td>\n",
       "      <td>2.91</td>\n",
       "      <td>-9.106043</td>\n",
       "      <td>-9.246043</td>\n",
       "      <td>0.027323</td>\n",
       "      <td>-0.097018</td>\n",
       "      <td>0.028685</td>\n",
       "      <td>-0.095477</td>\n",
       "    </tr>\n",
       "  </tbody>\n",
       "</table>\n",
       "<p>1103 rows × 11 columns</p>\n",
       "</div>"
      ],
      "text/plain": [
       "            Mkt_RF   SMB   HML    RF   Mkt  strategy_ret  strategy_excess  \\\n",
       "date                                                                        \n",
       "1928-02-29   -1.70 -2.03 -0.69  0.33 -1.37     -7.213916        -7.433916   \n",
       "1928-03-31    8.81 -0.26 -1.20  0.29  9.10      5.433933         5.183933   \n",
       "1928-04-30    4.23  3.82  3.67  0.22  4.45     -6.128900        -6.358900   \n",
       "1928-05-31    1.52  2.98 -3.46  0.32  1.84    -10.353505       -10.673505   \n",
       "1928-06-30   -4.85 -3.50 -0.06  0.31 -4.54      1.910393         1.600393   \n",
       "...            ...   ...   ...   ...   ...           ...              ...   \n",
       "2019-08-31   -2.58 -2.41 -4.99  0.16 -2.42      4.227480         4.117480   \n",
       "2019-09-30    1.44 -0.90  6.71  0.18  1.62     -8.108368        -8.218368   \n",
       "2019-10-31    2.06  0.25 -2.07  0.15  2.21      6.493778         6.373778   \n",
       "2019-11-30    3.87  0.87 -1.86  0.12  3.99      2.770538         2.630538   \n",
       "2019-12-31    2.77  0.69  1.82  0.14  2.91     -9.106043        -9.246043   \n",
       "\n",
       "            log_mktrf  log_strategyrf   log_mkt  log_strategy  \n",
       "date                                                           \n",
       "1928-02-29  -0.017146       -0.077247 -0.013795     -0.074874  \n",
       "1928-03-31   0.084433        0.050540  0.087095      0.052914  \n",
       "1928-04-30   0.041430       -0.065701  0.043538     -0.063248  \n",
       "1928-05-31   0.015086       -0.112872  0.018233     -0.109296  \n",
       "1928-06-30  -0.049716        0.015877 -0.046463      0.018924  \n",
       "...               ...             ...       ...           ...  \n",
       "2019-08-31  -0.026139        0.040350 -0.024498      0.041406  \n",
       "2019-09-30   0.014297       -0.085758  0.016070     -0.084560  \n",
       "2019-10-31   0.020391        0.061789  0.021859      0.062916  \n",
       "2019-11-30   0.037970        0.025965  0.039125      0.027329  \n",
       "2019-12-31   0.027323       -0.097018  0.028685     -0.095477  \n",
       "\n",
       "[1103 rows x 11 columns]"
      ]
     },
     "execution_count": 28,
     "metadata": {},
     "output_type": "execute_result"
    }
   ],
   "source": [
    "portfolios2"
   ]
  },
  {
   "cell_type": "code",
   "execution_count": 61,
   "metadata": {
    "scrolled": true
   },
   "outputs": [
    {
     "data": {
      "text/plain": [
       "8.513350101068115"
      ]
     },
     "execution_count": 61,
     "metadata": {},
     "output_type": "execute_result"
    }
   ],
   "source": [
    "portfolios2['strategy_ret'].std()"
   ]
  },
  {
   "cell_type": "code",
   "execution_count": 62,
   "metadata": {
    "scrolled": true
   },
   "outputs": [
    {
     "data": {
      "text/plain": [
       "Text(0, 0.5, 'Return')"
      ]
     },
     "execution_count": 62,
     "metadata": {},
     "output_type": "execute_result"
    },
    {
     "data": {
      "image/png": "[encoded data removed]",
      "text/plain": [
       "<Figure size 432x288 with 1 Axes>"
      ]
     },
     "metadata": {
      "needs_background": "light"
     },
     "output_type": "display_data"
    }
   ],
   "source": [
    "portfolios2['strategy_ret'].plot()\n",
    "plt.ylabel('Return')"
   ]
  },
  {
   "cell_type": "code",
   "execution_count": 63,
   "metadata": {
    "scrolled": true
   },
   "outputs": [
    {
     "data": {
      "text/plain": [
       "5.32569720572521"
      ]
     },
     "execution_count": 63,
     "metadata": {},
     "output_type": "execute_result"
    }
   ],
   "source": [
    "portfolios2['Mkt'].std()"
   ]
  },
  {
   "cell_type": "code",
   "execution_count": 64,
   "metadata": {
    "scrolled": true
   },
   "outputs": [
    {
     "data": {
      "text/plain": [
       "Text(0, 0.5, 'Return')"
      ]
     },
     "execution_count": 64,
     "metadata": {},
     "output_type": "execute_result"
    },
    {
     "data": {
      "image/png": "[encoded data removed]",
      "text/plain": [
       "<Figure size 432x288 with 1 Axes>"
      ]
     },
     "metadata": {
      "needs_background": "light"
     },
     "output_type": "display_data"
    }
   ],
   "source": [
    "(portfolios2['Mkt']).plot()\n",
    "plt.ylabel('Return')"
   ]
  },
  {
   "cell_type": "code",
   "execution_count": 65,
   "metadata": {
    "scrolled": true
   },
   "outputs": [
    {
     "data": {
      "text/plain": [
       "<matplotlib.axes._subplots.AxesSubplot at 0x19003624a08>"
      ]
     },
     "execution_count": 65,
     "metadata": {},
     "output_type": "execute_result"
    },
    {
     "data": {
      "image/png": "[encoded data removed]",
      "text/plain": [
       "<Figure size 432x288 with 1 Axes>"
      ]
     },
     "metadata": {
      "needs_background": "light"
     },
     "output_type": "display_data"
    }
   ],
   "source": [
    "def SR(x):\n",
    "    return np.sqrt(12) * np.mean(x) / np.std(x)\n",
    "portfolios2['strategy_excess'].rolling(window = 12).apply(SR, raw = True).plot()\n"
   ]
  },
  {
   "cell_type": "code",
   "execution_count": 66,
   "metadata": {
    "scrolled": true
   },
   "outputs": [
    {
     "data": {
      "text/plain": [
       "0.5075821533112309"
      ]
     },
     "execution_count": 66,
     "metadata": {},
     "output_type": "execute_result"
    }
   ],
   "source": [
    "portfolios2['strategy_excess'].rolling(window = 12).apply(SR, raw = True).mean()"
   ]
  },
  {
   "cell_type": "code",
   "execution_count": 67,
   "metadata": {
    "scrolled": true
   },
   "outputs": [
    {
     "data": {
      "text/plain": [
       "<matplotlib.axes._subplots.AxesSubplot at 0x1900402a088>"
      ]
     },
     "execution_count": 67,
     "metadata": {},
     "output_type": "execute_result"
    },
    {
     "data": {
      "image/png": "[encoded data removed]",
      "text/plain": [
       "<Figure size 432x288 with 1 Axes>"
      ]
     },
     "metadata": {
      "needs_background": "light"
     },
     "output_type": "display_data"
    }
   ],
   "source": [
    "(portfolios2['Mkt_RF']).rolling(window = 12).apply(SR, raw = True).plot(color = 'red')"
   ]
  },
  {
   "cell_type": "code",
   "execution_count": 68,
   "metadata": {
    "scrolled": true
   },
   "outputs": [
    {
     "data": {
      "text/plain": [
       "0.8339766077330356"
      ]
     },
     "execution_count": 68,
     "metadata": {},
     "output_type": "execute_result"
    }
   ],
   "source": [
    "portfolios2['Mkt_RF'].rolling(window = 12).apply(SR, raw = True).mean()"
   ]
  },
  {
   "cell_type": "code",
   "execution_count": 78,
   "metadata": {
    "scrolled": true
   },
   "outputs": [
    {
     "data": {
      "image/png": "[encoded data removed]",
      "text/plain": [
       "<Figure size 432x288 with 1 Axes>"
      ]
     },
     "metadata": {
      "needs_background": "light"
     },
     "output_type": "display_data"
    }
   ],
   "source": [
    "var_95percent_st = np.percentile(port['strategy_ret'], 5)\n",
    "var_95percent_st_sorted = sorted(port['strategy_ret'])\n",
    "plt.hist(var_95percent_st_sorted, density = True, bins = 100)\n",
    "plt.axvline(x=var_95percent_st, color='r', linestyle='-',label=\"var_95percent_st\".format(var_95percent_st))\n",
    "plt.xlabel('returns')\n",
    "plt.ylabel('prob')\n",
    "plt.show()"
   ]
  },
  {
   "cell_type": "code",
   "execution_count": 81,
   "metadata": {},
   "outputs": [
    {
     "data": {
      "text/plain": [
       "-12.180351125887258"
      ]
     },
     "execution_count": 81,
     "metadata": {},
     "output_type": "execute_result"
    }
   ],
   "source": [
    "var_95percent_st"
   ]
  },
  {
   "cell_type": "code",
   "execution_count": 79,
   "metadata": {
    "scrolled": true
   },
   "outputs": [
    {
     "data": {
      "image/png": "[encoded data removed]",
      "text/plain": [
       "<Figure size 432x288 with 1 Axes>"
      ]
     },
     "metadata": {
      "needs_background": "light"
     },
     "output_type": "display_data"
    }
   ],
   "source": [
    "var_95percent_m = np.percentile(portfolios2['Mkt'], 5)\n",
    "var_95percent_m_sorted = sorted(portfolios2['Mkt'])\n",
    "plt.hist(var_95percent_m_sorted, density = True, bins = 100)\n",
    "plt.axvline(x=var_95percent_m, color='r', linestyle='-',label=\"var_95percent_m\".format(var_95percent_m))\n",
    "plt.xlabel('returns')\n",
    "plt.ylabel('prob')\n",
    "plt.show()"
   ]
  },
  {
   "cell_type": "code",
   "execution_count": 82,
   "metadata": {
    "scrolled": true
   },
   "outputs": [
    {
     "data": {
      "text/plain": [
       "-7.5"
      ]
     },
     "execution_count": 82,
     "metadata": {},
     "output_type": "execute_result"
    }
   ],
   "source": [
    "var_95percent_m"
   ]
  },
  {
   "cell_type": "code",
   "execution_count": null,
   "metadata": {},
   "outputs": [],
   "source": []
  }
 ],
 "metadata": {
  "kernelspec": {
   "display_name": "Python 3",
   "language": "python",
   "name": "python3"
  },
  "language_info": {
   "codemirror_mode": {
    "name": "ipython",
    "version": 3
   },
   "file_extension": ".py",
   "mimetype": "text/x-python",
   "name": "python",
   "nbconvert_exporter": "python",
   "pygments_lexer": "ipython3",
   "version": "3.7.4"
  }
 },
 "nbformat": 4,
 "nbformat_minor": 2
}
